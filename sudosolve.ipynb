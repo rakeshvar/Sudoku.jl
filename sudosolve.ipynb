{
 "cells": [
  {
   "cell_type": "code",
   "execution_count": null,
   "id": "26738b14",
   "metadata": {},
   "outputs": [],
   "source": [
    "include(\"samples.jl\")\n",
    "include(\"Sudoklass.jl\")\n",
    "include(\"rules.jl\")\n",
    "include(\"solvers.jl\")"
   ]
  },
  {
   "cell_type": "code",
   "execution_count": null,
   "id": "0227c0a3",
   "metadata": {
    "scrolled": true
   },
   "outputs": [],
   "source": [
    "solvebyrules.((a, b, c, d, e, f, g))"
   ]
  },
  {
   "cell_type": "code",
   "execution_count": null,
   "id": "f810f3fb",
   "metadata": {},
   "outputs": [],
   "source": [
    "solvebyguessing.((a, b, c))"
   ]
  },
  {
   "cell_type": "code",
   "execution_count": null,
   "id": "1b522848",
   "metadata": {
    "scrolled": false
   },
   "outputs": [],
   "source": [
    "solvebyguessing.((d, e, f, g))"
   ]
  },
  {
   "cell_type": "code",
   "execution_count": null,
   "id": "c7d292f2",
   "metadata": {},
   "outputs": [],
   "source": []
  }
 ],
 "metadata": {
  "kernelspec": {
   "display_name": "Julia 1.11.6",
   "language": "julia",
   "name": "julia-1.11"
  },
  "language_info": {
   "file_extension": ".jl",
   "mimetype": "application/julia",
   "name": "julia",
   "version": "1.11.6"
  }
 },
 "nbformat": 4,
 "nbformat_minor": 5
}
